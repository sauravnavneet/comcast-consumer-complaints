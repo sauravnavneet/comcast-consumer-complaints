{
 "cells": [
  {
   "cell_type": "markdown",
   "id": "e2f5ef90",
   "metadata": {},
   "source": [
    "__IMPORTING LIBRARIES__"
   ]
  },
  {
   "cell_type": "code",
   "execution_count": 1,
   "id": "d94c26ae",
   "metadata": {},
   "outputs": [],
   "source": [
    "import pandas as pd\n",
    "import numpy as np\n",
    "import matplotlib.pyplot as plt\n",
    "%matplotlib inline"
   ]
  },
  {
   "cell_type": "markdown",
   "id": "383f4e08",
   "metadata": {},
   "source": [
    "__IMPORTING DATASETS__"
   ]
  },
  {
   "cell_type": "code",
   "execution_count": 2,
   "id": "eaf8cd34",
   "metadata": {},
   "outputs": [],
   "source": [
    "df = pd.read_csv(\"Comcast_telecom_complaints_data.csv\")"
   ]
  },
  {
   "cell_type": "markdown",
   "id": "f4c744cb",
   "metadata": {},
   "source": [
    "__ANALYISING THE DATASET__"
   ]
  },
  {
   "cell_type": "code",
   "execution_count": 3,
   "id": "8bdae4ae",
   "metadata": {},
   "outputs": [
    {
     "data": {
      "text/html": [
       "<div>\n",
       "<style scoped>\n",
       "    .dataframe tbody tr th:only-of-type {\n",
       "        vertical-align: middle;\n",
       "    }\n",
       "\n",
       "    .dataframe tbody tr th {\n",
       "        vertical-align: top;\n",
       "    }\n",
       "\n",
       "    .dataframe thead th {\n",
       "        text-align: right;\n",
       "    }\n",
       "</style>\n",
       "<table border=\"1\" class=\"dataframe\">\n",
       "  <thead>\n",
       "    <tr style=\"text-align: right;\">\n",
       "      <th></th>\n",
       "      <th>Ticket #</th>\n",
       "      <th>Customer Complaint</th>\n",
       "      <th>Date</th>\n",
       "      <th>Date_month_year</th>\n",
       "      <th>Time</th>\n",
       "      <th>Received Via</th>\n",
       "      <th>City</th>\n",
       "      <th>State</th>\n",
       "      <th>Zip code</th>\n",
       "      <th>Status</th>\n",
       "      <th>Filing on Behalf of Someone</th>\n",
       "    </tr>\n",
       "  </thead>\n",
       "  <tbody>\n",
       "    <tr>\n",
       "      <th>0</th>\n",
       "      <td>250635</td>\n",
       "      <td>Comcast Cable Internet Speeds</td>\n",
       "      <td>22-04-15</td>\n",
       "      <td>22-Apr-15</td>\n",
       "      <td>3:53:50 PM</td>\n",
       "      <td>Customer Care Call</td>\n",
       "      <td>Abingdon</td>\n",
       "      <td>Maryland</td>\n",
       "      <td>21009</td>\n",
       "      <td>Closed</td>\n",
       "      <td>No</td>\n",
       "    </tr>\n",
       "    <tr>\n",
       "      <th>1</th>\n",
       "      <td>223441</td>\n",
       "      <td>Payment disappear - service got disconnected</td>\n",
       "      <td>04-08-15</td>\n",
       "      <td>04-Aug-15</td>\n",
       "      <td>10:22:56 AM</td>\n",
       "      <td>Internet</td>\n",
       "      <td>Acworth</td>\n",
       "      <td>Georgia</td>\n",
       "      <td>30102</td>\n",
       "      <td>Closed</td>\n",
       "      <td>No</td>\n",
       "    </tr>\n",
       "    <tr>\n",
       "      <th>2</th>\n",
       "      <td>242732</td>\n",
       "      <td>Speed and Service</td>\n",
       "      <td>18-04-15</td>\n",
       "      <td>18-Apr-15</td>\n",
       "      <td>9:55:47 AM</td>\n",
       "      <td>Internet</td>\n",
       "      <td>Acworth</td>\n",
       "      <td>Georgia</td>\n",
       "      <td>30101</td>\n",
       "      <td>Closed</td>\n",
       "      <td>Yes</td>\n",
       "    </tr>\n",
       "    <tr>\n",
       "      <th>3</th>\n",
       "      <td>277946</td>\n",
       "      <td>Comcast Imposed a New Usage Cap of 300GB that ...</td>\n",
       "      <td>05-07-15</td>\n",
       "      <td>05-Jul-15</td>\n",
       "      <td>11:59:35 AM</td>\n",
       "      <td>Internet</td>\n",
       "      <td>Acworth</td>\n",
       "      <td>Georgia</td>\n",
       "      <td>30101</td>\n",
       "      <td>Open</td>\n",
       "      <td>Yes</td>\n",
       "    </tr>\n",
       "    <tr>\n",
       "      <th>4</th>\n",
       "      <td>307175</td>\n",
       "      <td>Comcast not working and no service to boot</td>\n",
       "      <td>26-05-15</td>\n",
       "      <td>26-May-15</td>\n",
       "      <td>1:25:26 PM</td>\n",
       "      <td>Internet</td>\n",
       "      <td>Acworth</td>\n",
       "      <td>Georgia</td>\n",
       "      <td>30101</td>\n",
       "      <td>Solved</td>\n",
       "      <td>No</td>\n",
       "    </tr>\n",
       "  </tbody>\n",
       "</table>\n",
       "</div>"
      ],
      "text/plain": [
       "  Ticket #                                 Customer Complaint      Date  \\\n",
       "0   250635                      Comcast Cable Internet Speeds  22-04-15   \n",
       "1   223441       Payment disappear - service got disconnected  04-08-15   \n",
       "2   242732                                  Speed and Service  18-04-15   \n",
       "3   277946  Comcast Imposed a New Usage Cap of 300GB that ...  05-07-15   \n",
       "4   307175         Comcast not working and no service to boot  26-05-15   \n",
       "\n",
       "  Date_month_year         Time        Received Via      City     State  \\\n",
       "0       22-Apr-15   3:53:50 PM  Customer Care Call  Abingdon  Maryland   \n",
       "1       04-Aug-15  10:22:56 AM            Internet   Acworth   Georgia   \n",
       "2       18-Apr-15   9:55:47 AM            Internet   Acworth   Georgia   \n",
       "3       05-Jul-15  11:59:35 AM            Internet   Acworth   Georgia   \n",
       "4       26-May-15   1:25:26 PM            Internet   Acworth   Georgia   \n",
       "\n",
       "   Zip code  Status Filing on Behalf of Someone  \n",
       "0     21009  Closed                          No  \n",
       "1     30102  Closed                          No  \n",
       "2     30101  Closed                         Yes  \n",
       "3     30101    Open                         Yes  \n",
       "4     30101  Solved                          No  "
      ]
     },
     "execution_count": 3,
     "metadata": {},
     "output_type": "execute_result"
    }
   ],
   "source": [
    "df.head()"
   ]
  },
  {
   "cell_type": "code",
   "execution_count": 4,
   "id": "b240789c",
   "metadata": {},
   "outputs": [
    {
     "data": {
      "text/plain": [
       "(2224, 11)"
      ]
     },
     "execution_count": 4,
     "metadata": {},
     "output_type": "execute_result"
    }
   ],
   "source": [
    "df.shape"
   ]
  },
  {
   "cell_type": "markdown",
   "id": "6451b3f8",
   "metadata": {},
   "source": [
    "__FINDING ANY NULL VALUE__"
   ]
  },
  {
   "cell_type": "code",
   "execution_count": 5,
   "id": "010eab21",
   "metadata": {},
   "outputs": [
    {
     "data": {
      "text/plain": [
       "Ticket #                       False\n",
       "Customer Complaint             False\n",
       "Date                           False\n",
       "Date_month_year                False\n",
       "Time                           False\n",
       "Received Via                   False\n",
       "City                           False\n",
       "State                          False\n",
       "Zip code                       False\n",
       "Status                         False\n",
       "Filing on Behalf of Someone    False\n",
       "dtype: bool"
      ]
     },
     "execution_count": 5,
     "metadata": {},
     "output_type": "execute_result"
    }
   ],
   "source": [
    "df.isnull().any()"
   ]
  },
  {
   "cell_type": "markdown",
   "id": "ed35ab56",
   "metadata": {},
   "source": [
    "#we can see there are no null values present in our dataset"
   ]
  },
  {
   "cell_type": "markdown",
   "id": "89e33964",
   "metadata": {},
   "source": [
    "__DROP COLUMNS WHICH ARE OF NO USE__"
   ]
  },
  {
   "cell_type": "code",
   "execution_count": 6,
   "id": "87531e40",
   "metadata": {},
   "outputs": [],
   "source": [
    "df.drop(['Ticket #','Time',\"Filing on Behalf of Someone\"],axis=1,inplace=True)"
   ]
  },
  {
   "cell_type": "code",
   "execution_count": 7,
   "id": "c63f61be",
   "metadata": {},
   "outputs": [
    {
     "data": {
      "text/plain": [
       "(2224, 8)"
      ]
     },
     "execution_count": 7,
     "metadata": {},
     "output_type": "execute_result"
    }
   ],
   "source": [
    "df.shape"
   ]
  },
  {
   "cell_type": "markdown",
   "id": "89bfd3cd",
   "metadata": {},
   "source": [
    "#we can see earlier there were __11__ columns . Now __8__ columns are remaining. We have dropped columns __[ ticket , time and Filing on Behalf of Someone ]__\n",
    "as they were of no use in our task."
   ]
  },
  {
   "cell_type": "markdown",
   "id": "3cde0fab",
   "metadata": {},
   "source": [
    "## TASK 1 :-  Provide the trend chart for the number of complaints at monthly and daily granularity levels."
   ]
  },
  {
   "cell_type": "markdown",
   "id": "037f0072",
   "metadata": {},
   "source": [
    "#convert the string __date_month_year__ to python date time object so as to extract monthly complaints and set the index to __date_month_year__"
   ]
  },
  {
   "cell_type": "code",
   "execution_count": 8,
   "id": "d3c6ae40",
   "metadata": {},
   "outputs": [],
   "source": [
    "df['Date_month_year']=df['Date_month_year'].apply(pd.to_datetime)\n",
    "df = df.set_index('Date_month_year')"
   ]
  },
  {
   "cell_type": "code",
   "execution_count": 9,
   "id": "109aafe8",
   "metadata": {},
   "outputs": [
    {
     "data": {
      "text/plain": [
       "Date_month_year\n",
       "2015-01-31      55\n",
       "2015-02-28      59\n",
       "2015-03-31      45\n",
       "2015-04-30     375\n",
       "2015-05-31     317\n",
       "2015-06-30    1046\n",
       "2015-07-31      49\n",
       "2015-08-31      67\n",
       "2015-09-30      55\n",
       "2015-10-31      53\n",
       "2015-11-30      38\n",
       "2015-12-31      65\n",
       "Freq: M, dtype: int64"
      ]
     },
     "execution_count": 9,
     "metadata": {},
     "output_type": "execute_result"
    }
   ],
   "source": [
    "month = df.groupby(pd.Grouper(freq='M')).size()\n",
    "month    "
   ]
  },
  {
   "cell_type": "code",
   "execution_count": 10,
   "id": "93abe970",
   "metadata": {},
   "outputs": [
    {
     "data": {
      "text/plain": [
       "Text(0.5, 1.0, 'MONTHLY TRENDS')"
      ]
     },
     "execution_count": 10,
     "metadata": {},
     "output_type": "execute_result"
    },
    {
     "data": {
      "image/png": "[encoded data removed]",
      "text/plain": [
       "<Figure size 640x480 with 1 Axes>"
      ]
     },
     "metadata": {},
     "output_type": "display_data"
    }
   ],
   "source": [
    "month.plot()\n",
    "plt.xlabel(\"MONTHS\")\n",
    "plt.ylabel(\"FREQUENCY\")\n",
    "plt.title(\"MONTHLY TRENDS\")"
   ]
  },
  {
   "cell_type": "markdown",
   "id": "70475c31",
   "metadata": {},
   "source": [
    "#WE CAN SEE FROM  THE GRAPH THAT IN THE MONTH OF __JUNE__ THERE WERE MOST COMPLAINTS"
   ]
  },
  {
   "cell_type": "markdown",
   "id": "5ee2c3ee",
   "metadata": {},
   "source": [
    "__PLOTTING DAILY TRENDS__"
   ]
  },
  {
   "cell_type": "code",
   "execution_count": 11,
   "id": "27a7011e",
   "metadata": {},
   "outputs": [],
   "source": [
    "df = df.sort_values(by = \"Date\")"
   ]
  },
  {
   "cell_type": "code",
   "execution_count": 38,
   "id": "f643b0da",
   "metadata": {},
   "outputs": [
    {
     "data": {
      "text/plain": [
       "Text(0.5, 1.0, 'DAILY TRENDS')"
      ]
     },
     "execution_count": 38,
     "metadata": {},
     "output_type": "execute_result"
    },
    {
     "data": {
      "image/png": "[encoded data removed]",
      "text/plain": [
       "<Figure size 1000x600 with 1 Axes>"
      ]
     },
     "metadata": {},
     "output_type": "display_data"
    }
   ],
   "source": [
    "plt.figure(figsize=(10,6))\n",
    "df['Date'].value_counts().plot()\n",
    "plt.xlabel(\"Date\")\n",
    "plt.ylabel(\"FREQUENCY\")\n",
    "plt.title(\"DAILY TRENDS\")"
   ]
  },
  {
   "cell_type": "markdown",
   "id": "2994d738",
   "metadata": {},
   "source": [
    "## TASK 2:- Provide a table with the frequency of complaint types."
   ]
  },
  {
   "cell_type": "code",
   "execution_count": 13,
   "id": "19ebdf96",
   "metadata": {},
   "outputs": [
    {
     "data": {
      "text/plain": [
       "Customer Complaint\n",
       "Comcast                     83\n",
       "Comcast Internet            18\n",
       "Comcast Data Cap            17\n",
       "comcast                     13\n",
       "Data Caps                   11\n",
       "Comcast Billing             11\n",
       "Comcast Data Caps           11\n",
       "Unfair Billing Practices     9\n",
       "Comcast data caps            8\n",
       "Name: count, dtype: int64"
      ]
     },
     "execution_count": 13,
     "metadata": {},
     "output_type": "execute_result"
    }
   ],
   "source": [
    "df[\"Customer Complaint\"].value_counts()[:9]"
   ]
  },
  {
   "cell_type": "code",
   "execution_count": 14,
   "id": "0da1ccca",
   "metadata": {},
   "outputs": [
    {
     "data": {
      "text/plain": [
       "<Axes: xlabel='Customer Complaint'>"
      ]
     },
     "execution_count": 14,
     "metadata": {},
     "output_type": "execute_result"
    },
    {
     "data": {
      "image/png": "[encoded data removed]",
      "text/plain": [
       "<Figure size 1500x600 with 1 Axes>"
      ]
     },
     "metadata": {},
     "output_type": "display_data"
    }
   ],
   "source": [
    "plt.figure(figsize=(15,6))\n",
    "colors = ['Red','Orange','Yellow','Green','Blue','Purple','Pink','Brown','Black']\n",
    "df[\"Customer Complaint\"].value_counts()[:20].plot.bar(color=colors)"
   ]
  },
  {
   "cell_type": "markdown",
   "id": "6d910b70",
   "metadata": {},
   "source": [
    "## TASK 3:- Which complaint types are maximum i.e., around internet, network issues, or across any other domains."
   ]
  },
  {
   "cell_type": "code",
   "execution_count": 15,
   "id": "429dc25b",
   "metadata": {},
   "outputs": [],
   "source": [
    "around_internet_1 = df[df['Customer Complaint'].str.contains(\"network\")].count()\n",
    "around_internet_2 = df[df['Customer Complaint'].str.contains(\"internet\")].count()\n",
    "around_internet_3 = df[df['Customer Complaint'].str.contains(\"speed\")].count()"
   ]
  },
  {
   "cell_type": "code",
   "execution_count": 16,
   "id": "0fca2d4a",
   "metadata": {},
   "outputs": [],
   "source": [
    "around_bill_1 = df[df['Customer Complaint'].str.contains(\"bill\")].count()\n",
    "around_bill_2 = df[df['Customer Complaint'].str.contains(\"charges\")].count()"
   ]
  },
  {
   "cell_type": "code",
   "execution_count": 17,
   "id": "29be7c9e",
   "metadata": {},
   "outputs": [],
   "source": [
    "around_services_1 = df[df[\"Customer Complaint\"].str.contains(\"service\")].count()\n",
    "around_services_2 = df[df[\"Customer Complaint\"].str.contains(\"customer service\")].count()"
   ]
  },
  {
   "cell_type": "code",
   "execution_count": 18,
   "id": "ca62b791",
   "metadata": {},
   "outputs": [
    {
     "data": {
      "text/plain": [
       "Customer Complaint    310\n",
       "Date                  310\n",
       "Received Via          310\n",
       "City                  310\n",
       "State                 310\n",
       "Zip code              310\n",
       "Status                310\n",
       "dtype: int64"
      ]
     },
     "execution_count": 18,
     "metadata": {},
     "output_type": "execute_result"
    }
   ],
   "source": [
    "total_complaints_around_internet = around_internet_1 + around_internet_2 + around_internet_3\n",
    "total_complaints_around_internet"
   ]
  },
  {
   "cell_type": "code",
   "execution_count": 19,
   "id": "fd0c6b6e",
   "metadata": {},
   "outputs": [
    {
     "data": {
      "text/plain": [
       "Customer Complaint    227\n",
       "Date                  227\n",
       "Received Via          227\n",
       "City                  227\n",
       "State                 227\n",
       "Zip code              227\n",
       "Status                227\n",
       "dtype: int64"
      ]
     },
     "execution_count": 19,
     "metadata": {},
     "output_type": "execute_result"
    }
   ],
   "source": [
    "total_complaints_around_billing = around_bill_1 + around_bill_2\n",
    "total_complaints_around_billing"
   ]
  },
  {
   "cell_type": "code",
   "execution_count": 20,
   "id": "3cc315c2",
   "metadata": {},
   "outputs": [
    {
     "data": {
      "text/plain": [
       "Customer Complaint    350\n",
       "Date                  350\n",
       "Received Via          350\n",
       "City                  350\n",
       "State                 350\n",
       "Zip code              350\n",
       "Status                350\n",
       "dtype: int64"
      ]
     },
     "execution_count": 20,
     "metadata": {},
     "output_type": "execute_result"
    }
   ],
   "source": [
    "total_complaints_around_customerservices = around_services_1 + around_services_2\n",
    "total_complaints_around_customerservices"
   ]
  },
  {
   "cell_type": "code",
   "execution_count": 21,
   "id": "27975999",
   "metadata": {},
   "outputs": [
    {
     "data": {
      "text/plain": [
       "Customer Complaint    1337\n",
       "Date                  1337\n",
       "Received Via          1337\n",
       "City                  1337\n",
       "State                 1337\n",
       "Zip code              1337\n",
       "Status                1337\n",
       "dtype: int64"
      ]
     },
     "execution_count": 21,
     "metadata": {},
     "output_type": "execute_result"
    }
   ],
   "source": [
    "other_complaints = df.shape[0] - (total_complaints_around_internet + total_complaints_around_billing + total_complaints_around_customerservices)\n",
    "other_complaints"
   ]
  },
  {
   "cell_type": "markdown",
   "id": "6ac09a6b",
   "metadata": {},
   "source": [
    "#we can see that other complaints are more than __internet, billing and services__"
   ]
  },
  {
   "cell_type": "markdown",
   "id": "175bf557",
   "metadata": {},
   "source": [
    "## TASK 4:- Create a new categorical variable with value as Open and Closed. Open & Pending is to be categorized as Open and Closed & Solved is to be categorized as Closed."
   ]
  },
  {
   "cell_type": "code",
   "execution_count": 22,
   "id": "d79b802d",
   "metadata": {},
   "outputs": [
    {
     "data": {
      "text/plain": [
       "array(['Closed', 'Open', 'Solved', 'Pending'], dtype=object)"
      ]
     },
     "execution_count": 22,
     "metadata": {},
     "output_type": "execute_result"
    }
   ],
   "source": [
    "df[\"Status\"].unique()"
   ]
  },
  {
   "cell_type": "code",
   "execution_count": 23,
   "id": "3ccb7715",
   "metadata": {},
   "outputs": [],
   "source": [
    "df[\"New_Status\"] = [\"Open\" if Status == \"Open\" or Status == \"Pending\" else \"Closed\" for Status in df[\"Status\"]]"
   ]
  },
  {
   "cell_type": "code",
   "execution_count": 24,
   "id": "3329c35d",
   "metadata": {},
   "outputs": [
    {
     "data": {
      "text/html": [
       "<div>\n",
       "<style scoped>\n",
       "    .dataframe tbody tr th:only-of-type {\n",
       "        vertical-align: middle;\n",
       "    }\n",
       "\n",
       "    .dataframe tbody tr th {\n",
       "        vertical-align: top;\n",
       "    }\n",
       "\n",
       "    .dataframe thead th {\n",
       "        text-align: right;\n",
       "    }\n",
       "</style>\n",
       "<table border=\"1\" class=\"dataframe\">\n",
       "  <thead>\n",
       "    <tr style=\"text-align: right;\">\n",
       "      <th></th>\n",
       "      <th>Customer Complaint</th>\n",
       "      <th>Date</th>\n",
       "      <th>Received Via</th>\n",
       "      <th>City</th>\n",
       "      <th>State</th>\n",
       "      <th>Zip code</th>\n",
       "      <th>Status</th>\n",
       "      <th>New_Status</th>\n",
       "    </tr>\n",
       "    <tr>\n",
       "      <th>Date_month_year</th>\n",
       "      <th></th>\n",
       "      <th></th>\n",
       "      <th></th>\n",
       "      <th></th>\n",
       "      <th></th>\n",
       "      <th></th>\n",
       "      <th></th>\n",
       "      <th></th>\n",
       "    </tr>\n",
       "  </thead>\n",
       "  <tbody>\n",
       "    <tr>\n",
       "      <th>2015-01-04</th>\n",
       "      <td>Fraudulent claims reported to collections agency</td>\n",
       "      <td>04-01-15</td>\n",
       "      <td>Customer Care Call</td>\n",
       "      <td>Atlanta</td>\n",
       "      <td>Georgia</td>\n",
       "      <td>30312</td>\n",
       "      <td>Closed</td>\n",
       "      <td>Closed</td>\n",
       "    </tr>\n",
       "    <tr>\n",
       "      <th>2015-01-04</th>\n",
       "      <td>Comcast refusal of service</td>\n",
       "      <td>04-01-15</td>\n",
       "      <td>Customer Care Call</td>\n",
       "      <td>Wayne</td>\n",
       "      <td>Pennsylvania</td>\n",
       "      <td>19087</td>\n",
       "      <td>Closed</td>\n",
       "      <td>Closed</td>\n",
       "    </tr>\n",
       "    <tr>\n",
       "      <th>2015-01-04</th>\n",
       "      <td>Comcast Cable</td>\n",
       "      <td>04-01-15</td>\n",
       "      <td>Internet</td>\n",
       "      <td>Franklin</td>\n",
       "      <td>Tennessee</td>\n",
       "      <td>37067</td>\n",
       "      <td>Closed</td>\n",
       "      <td>Closed</td>\n",
       "    </tr>\n",
       "    <tr>\n",
       "      <th>2015-01-04</th>\n",
       "      <td>Data Overages</td>\n",
       "      <td>04-01-15</td>\n",
       "      <td>Internet</td>\n",
       "      <td>Savannah</td>\n",
       "      <td>Georgia</td>\n",
       "      <td>31406</td>\n",
       "      <td>Closed</td>\n",
       "      <td>Closed</td>\n",
       "    </tr>\n",
       "    <tr>\n",
       "      <th>2015-01-04</th>\n",
       "      <td>Comcast</td>\n",
       "      <td>04-01-15</td>\n",
       "      <td>Internet</td>\n",
       "      <td>North Huntingdon</td>\n",
       "      <td>Pennsylvania</td>\n",
       "      <td>15642</td>\n",
       "      <td>Closed</td>\n",
       "      <td>Closed</td>\n",
       "    </tr>\n",
       "  </tbody>\n",
       "</table>\n",
       "</div>"
      ],
      "text/plain": [
       "                                               Customer Complaint      Date  \\\n",
       "Date_month_year                                                               \n",
       "2015-01-04       Fraudulent claims reported to collections agency  04-01-15   \n",
       "2015-01-04                             Comcast refusal of service  04-01-15   \n",
       "2015-01-04                                          Comcast Cable  04-01-15   \n",
       "2015-01-04                                          Data Overages  04-01-15   \n",
       "2015-01-04                                                Comcast  04-01-15   \n",
       "\n",
       "                       Received Via              City         State  Zip code  \\\n",
       "Date_month_year                                                                 \n",
       "2015-01-04       Customer Care Call           Atlanta       Georgia     30312   \n",
       "2015-01-04       Customer Care Call             Wayne  Pennsylvania     19087   \n",
       "2015-01-04                 Internet          Franklin     Tennessee     37067   \n",
       "2015-01-04                 Internet          Savannah       Georgia     31406   \n",
       "2015-01-04                 Internet  North Huntingdon  Pennsylvania     15642   \n",
       "\n",
       "                 Status New_Status  \n",
       "Date_month_year                     \n",
       "2015-01-04       Closed     Closed  \n",
       "2015-01-04       Closed     Closed  \n",
       "2015-01-04       Closed     Closed  \n",
       "2015-01-04       Closed     Closed  \n",
       "2015-01-04       Closed     Closed  "
      ]
     },
     "execution_count": 24,
     "metadata": {},
     "output_type": "execute_result"
    }
   ],
   "source": [
    "df.head()"
   ]
  },
  {
   "cell_type": "code",
   "execution_count": 25,
   "id": "9386e86e",
   "metadata": {},
   "outputs": [
    {
     "data": {
      "text/plain": [
       "array(['Closed', 'Open'], dtype=object)"
      ]
     },
     "execution_count": 25,
     "metadata": {},
     "output_type": "execute_result"
    }
   ],
   "source": [
    "df[\"New_Status\"].unique()"
   ]
  },
  {
   "cell_type": "markdown",
   "id": "6d68ff28",
   "metadata": {},
   "source": [
    "## TASK 5:- Provide state wise status of complaints in a stacked bar chart. Use the categorized variable from Q3"
   ]
  },
  {
   "cell_type": "code",
   "execution_count": 36,
   "id": "6cc87f03",
   "metadata": {},
   "outputs": [
    {
     "data": {
      "text/html": [
       "<div>\n",
       "<style scoped>\n",
       "    .dataframe tbody tr th:only-of-type {\n",
       "        vertical-align: middle;\n",
       "    }\n",
       "\n",
       "    .dataframe tbody tr th {\n",
       "        vertical-align: top;\n",
       "    }\n",
       "\n",
       "    .dataframe thead th {\n",
       "        text-align: right;\n",
       "    }\n",
       "</style>\n",
       "<table border=\"1\" class=\"dataframe\">\n",
       "  <thead>\n",
       "    <tr style=\"text-align: right;\">\n",
       "      <th>New_Status</th>\n",
       "      <th>Closed</th>\n",
       "      <th>Open</th>\n",
       "    </tr>\n",
       "    <tr>\n",
       "      <th>State</th>\n",
       "      <th></th>\n",
       "      <th></th>\n",
       "    </tr>\n",
       "  </thead>\n",
       "  <tbody>\n",
       "    <tr>\n",
       "      <th>Alabama</th>\n",
       "      <td>17.0</td>\n",
       "      <td>9.0</td>\n",
       "    </tr>\n",
       "    <tr>\n",
       "      <th>Arizona</th>\n",
       "      <td>14.0</td>\n",
       "      <td>6.0</td>\n",
       "    </tr>\n",
       "    <tr>\n",
       "      <th>Arkansas</th>\n",
       "      <td>6.0</td>\n",
       "      <td>NaN</td>\n",
       "    </tr>\n",
       "    <tr>\n",
       "      <th>California</th>\n",
       "      <td>159.0</td>\n",
       "      <td>61.0</td>\n",
       "    </tr>\n",
       "    <tr>\n",
       "      <th>Colorado</th>\n",
       "      <td>58.0</td>\n",
       "      <td>22.0</td>\n",
       "    </tr>\n",
       "    <tr>\n",
       "      <th>Connecticut</th>\n",
       "      <td>9.0</td>\n",
       "      <td>3.0</td>\n",
       "    </tr>\n",
       "    <tr>\n",
       "      <th>Delaware</th>\n",
       "      <td>8.0</td>\n",
       "      <td>4.0</td>\n",
       "    </tr>\n",
       "    <tr>\n",
       "      <th>District Of Columbia</th>\n",
       "      <td>14.0</td>\n",
       "      <td>2.0</td>\n",
       "    </tr>\n",
       "    <tr>\n",
       "      <th>District of Columbia</th>\n",
       "      <td>1.0</td>\n",
       "      <td>NaN</td>\n",
       "    </tr>\n",
       "    <tr>\n",
       "      <th>Florida</th>\n",
       "      <td>201.0</td>\n",
       "      <td>39.0</td>\n",
       "    </tr>\n",
       "    <tr>\n",
       "      <th>Georgia</th>\n",
       "      <td>208.0</td>\n",
       "      <td>80.0</td>\n",
       "    </tr>\n",
       "    <tr>\n",
       "      <th>Illinois</th>\n",
       "      <td>135.0</td>\n",
       "      <td>29.0</td>\n",
       "    </tr>\n",
       "    <tr>\n",
       "      <th>Indiana</th>\n",
       "      <td>50.0</td>\n",
       "      <td>9.0</td>\n",
       "    </tr>\n",
       "    <tr>\n",
       "      <th>Iowa</th>\n",
       "      <td>1.0</td>\n",
       "      <td>NaN</td>\n",
       "    </tr>\n",
       "    <tr>\n",
       "      <th>Kansas</th>\n",
       "      <td>1.0</td>\n",
       "      <td>1.0</td>\n",
       "    </tr>\n",
       "    <tr>\n",
       "      <th>Kentucky</th>\n",
       "      <td>4.0</td>\n",
       "      <td>3.0</td>\n",
       "    </tr>\n",
       "    <tr>\n",
       "      <th>Louisiana</th>\n",
       "      <td>12.0</td>\n",
       "      <td>1.0</td>\n",
       "    </tr>\n",
       "    <tr>\n",
       "      <th>Maine</th>\n",
       "      <td>3.0</td>\n",
       "      <td>2.0</td>\n",
       "    </tr>\n",
       "    <tr>\n",
       "      <th>Maryland</th>\n",
       "      <td>63.0</td>\n",
       "      <td>15.0</td>\n",
       "    </tr>\n",
       "    <tr>\n",
       "      <th>Massachusetts</th>\n",
       "      <td>50.0</td>\n",
       "      <td>11.0</td>\n",
       "    </tr>\n",
       "    <tr>\n",
       "      <th>Michigan</th>\n",
       "      <td>92.0</td>\n",
       "      <td>23.0</td>\n",
       "    </tr>\n",
       "    <tr>\n",
       "      <th>Minnesota</th>\n",
       "      <td>29.0</td>\n",
       "      <td>4.0</td>\n",
       "    </tr>\n",
       "    <tr>\n",
       "      <th>Mississippi</th>\n",
       "      <td>23.0</td>\n",
       "      <td>16.0</td>\n",
       "    </tr>\n",
       "    <tr>\n",
       "      <th>Missouri</th>\n",
       "      <td>3.0</td>\n",
       "      <td>1.0</td>\n",
       "    </tr>\n",
       "    <tr>\n",
       "      <th>Montana</th>\n",
       "      <td>1.0</td>\n",
       "      <td>NaN</td>\n",
       "    </tr>\n",
       "    <tr>\n",
       "      <th>Nevada</th>\n",
       "      <td>1.0</td>\n",
       "      <td>NaN</td>\n",
       "    </tr>\n",
       "    <tr>\n",
       "      <th>New Hampshire</th>\n",
       "      <td>8.0</td>\n",
       "      <td>4.0</td>\n",
       "    </tr>\n",
       "    <tr>\n",
       "      <th>New Jersey</th>\n",
       "      <td>56.0</td>\n",
       "      <td>19.0</td>\n",
       "    </tr>\n",
       "    <tr>\n",
       "      <th>New Mexico</th>\n",
       "      <td>11.0</td>\n",
       "      <td>4.0</td>\n",
       "    </tr>\n",
       "    <tr>\n",
       "      <th>New York</th>\n",
       "      <td>6.0</td>\n",
       "      <td>NaN</td>\n",
       "    </tr>\n",
       "    <tr>\n",
       "      <th>North Carolina</th>\n",
       "      <td>3.0</td>\n",
       "      <td>NaN</td>\n",
       "    </tr>\n",
       "    <tr>\n",
       "      <th>Ohio</th>\n",
       "      <td>3.0</td>\n",
       "      <td>NaN</td>\n",
       "    </tr>\n",
       "    <tr>\n",
       "      <th>Oregon</th>\n",
       "      <td>36.0</td>\n",
       "      <td>13.0</td>\n",
       "    </tr>\n",
       "    <tr>\n",
       "      <th>Pennsylvania</th>\n",
       "      <td>110.0</td>\n",
       "      <td>20.0</td>\n",
       "    </tr>\n",
       "    <tr>\n",
       "      <th>Rhode Island</th>\n",
       "      <td>1.0</td>\n",
       "      <td>NaN</td>\n",
       "    </tr>\n",
       "    <tr>\n",
       "      <th>South Carolina</th>\n",
       "      <td>15.0</td>\n",
       "      <td>3.0</td>\n",
       "    </tr>\n",
       "    <tr>\n",
       "      <th>Tennessee</th>\n",
       "      <td>96.0</td>\n",
       "      <td>47.0</td>\n",
       "    </tr>\n",
       "    <tr>\n",
       "      <th>Texas</th>\n",
       "      <td>49.0</td>\n",
       "      <td>22.0</td>\n",
       "    </tr>\n",
       "    <tr>\n",
       "      <th>Utah</th>\n",
       "      <td>16.0</td>\n",
       "      <td>6.0</td>\n",
       "    </tr>\n",
       "    <tr>\n",
       "      <th>Vermont</th>\n",
       "      <td>2.0</td>\n",
       "      <td>1.0</td>\n",
       "    </tr>\n",
       "    <tr>\n",
       "      <th>Virginia</th>\n",
       "      <td>49.0</td>\n",
       "      <td>11.0</td>\n",
       "    </tr>\n",
       "    <tr>\n",
       "      <th>Washington</th>\n",
       "      <td>75.0</td>\n",
       "      <td>23.0</td>\n",
       "    </tr>\n",
       "    <tr>\n",
       "      <th>West Virginia</th>\n",
       "      <td>8.0</td>\n",
       "      <td>3.0</td>\n",
       "    </tr>\n",
       "  </tbody>\n",
       "</table>\n",
       "</div>"
      ],
      "text/plain": [
       "New_Status            Closed  Open\n",
       "State                             \n",
       "Alabama                 17.0   9.0\n",
       "Arizona                 14.0   6.0\n",
       "Arkansas                 6.0   NaN\n",
       "California             159.0  61.0\n",
       "Colorado                58.0  22.0\n",
       "Connecticut              9.0   3.0\n",
       "Delaware                 8.0   4.0\n",
       "District Of Columbia    14.0   2.0\n",
       "District of Columbia     1.0   NaN\n",
       "Florida                201.0  39.0\n",
       "Georgia                208.0  80.0\n",
       "Illinois               135.0  29.0\n",
       "Indiana                 50.0   9.0\n",
       "Iowa                     1.0   NaN\n",
       "Kansas                   1.0   1.0\n",
       "Kentucky                 4.0   3.0\n",
       "Louisiana               12.0   1.0\n",
       "Maine                    3.0   2.0\n",
       "Maryland                63.0  15.0\n",
       "Massachusetts           50.0  11.0\n",
       "Michigan                92.0  23.0\n",
       "Minnesota               29.0   4.0\n",
       "Mississippi             23.0  16.0\n",
       "Missouri                 3.0   1.0\n",
       "Montana                  1.0   NaN\n",
       "Nevada                   1.0   NaN\n",
       "New Hampshire            8.0   4.0\n",
       "New Jersey              56.0  19.0\n",
       "New Mexico              11.0   4.0\n",
       "New York                 6.0   NaN\n",
       "North Carolina           3.0   NaN\n",
       "Ohio                     3.0   NaN\n",
       "Oregon                  36.0  13.0\n",
       "Pennsylvania           110.0  20.0\n",
       "Rhode Island             1.0   NaN\n",
       "South Carolina          15.0   3.0\n",
       "Tennessee               96.0  47.0\n",
       "Texas                   49.0  22.0\n",
       "Utah                    16.0   6.0\n",
       "Vermont                  2.0   1.0\n",
       "Virginia                49.0  11.0\n",
       "Washington              75.0  23.0\n",
       "West Virginia            8.0   3.0"
      ]
     },
     "execution_count": 36,
     "metadata": {},
     "output_type": "execute_result"
    }
   ],
   "source": [
    "status_of_complaints = df.groupby([\"State\",\"New_Status\"]).size().unstack()\n",
    "status_of_complaints"
   ]
  },
  {
   "cell_type": "code",
   "execution_count": 37,
   "id": "ae1e6bd1",
   "metadata": {},
   "outputs": [
    {
     "data": {
      "text/plain": [
       "<Axes: xlabel='State'>"
      ]
     },
     "execution_count": 37,
     "metadata": {},
     "output_type": "execute_result"
    },
    {
     "data": {
      "image/png": "[encoded data removed]",
      "text/plain": [
       "<Figure size 2000x1000 with 1 Axes>"
      ]
     },
     "metadata": {},
     "output_type": "display_data"
    }
   ],
   "source": [
    "status_of_complaints.plot.bar(figsize=(20,10),stacked=True)"
   ]
  },
  {
   "cell_type": "markdown",
   "id": "d8eb2818",
   "metadata": {},
   "source": [
    "## TASK 6:- Which state has the maximum complaints"
   ]
  },
  {
   "cell_type": "code",
   "execution_count": 28,
   "id": "9ad98c2f",
   "metadata": {},
   "outputs": [
    {
     "data": {
      "text/plain": [
       "State\n",
       "Georgia       288\n",
       "Florida       240\n",
       "California    220\n",
       "Illinois      164\n",
       "Tennessee     143\n",
       "dtype: int64"
      ]
     },
     "execution_count": 28,
     "metadata": {},
     "output_type": "execute_result"
    }
   ],
   "source": [
    "df.groupby(\"State\").size().sort_values(ascending=False)[:5]"
   ]
  },
  {
   "cell_type": "markdown",
   "id": "dbf3f4f4",
   "metadata": {},
   "source": [
    "#WE CAN SEE THAT THE STATE __GEORGIA__ HAS THE MAXIMUM NUMBER OF COMPLAINTS I.E __288__"
   ]
  },
  {
   "cell_type": "markdown",
   "id": "0b511512",
   "metadata": {},
   "source": [
    "## TASK 7:- Which state has the highest percentage of unresolved complaints"
   ]
  },
  {
   "cell_type": "code",
   "execution_count": 29,
   "id": "a13d8591",
   "metadata": {},
   "outputs": [],
   "source": [
    "unresolved_complaints = df.groupby([\"State\",\"New_Status\"]).size().unstack().fillna(0).sort_values(by=\"Open\",ascending=False)"
   ]
  },
  {
   "cell_type": "code",
   "execution_count": 30,
   "id": "ec90fc67",
   "metadata": {},
   "outputs": [],
   "source": [
    "unresolved_complaints[\"unresolved_complaints_percentage\"] = unresolved_complaints[\"Open\"]/unresolved_complaints[\"Open\"].sum()*100"
   ]
  },
  {
   "cell_type": "code",
   "execution_count": 31,
   "id": "f80fe3d6",
   "metadata": {},
   "outputs": [
    {
     "data": {
      "text/html": [
       "<div>\n",
       "<style scoped>\n",
       "    .dataframe tbody tr th:only-of-type {\n",
       "        vertical-align: middle;\n",
       "    }\n",
       "\n",
       "    .dataframe tbody tr th {\n",
       "        vertical-align: top;\n",
       "    }\n",
       "\n",
       "    .dataframe thead th {\n",
       "        text-align: right;\n",
       "    }\n",
       "</style>\n",
       "<table border=\"1\" class=\"dataframe\">\n",
       "  <thead>\n",
       "    <tr style=\"text-align: right;\">\n",
       "      <th>New_Status</th>\n",
       "      <th>Closed</th>\n",
       "      <th>Open</th>\n",
       "      <th>unresolved_complaints_percentage</th>\n",
       "    </tr>\n",
       "    <tr>\n",
       "      <th>State</th>\n",
       "      <th></th>\n",
       "      <th></th>\n",
       "      <th></th>\n",
       "    </tr>\n",
       "  </thead>\n",
       "  <tbody>\n",
       "    <tr>\n",
       "      <th>Georgia</th>\n",
       "      <td>208.0</td>\n",
       "      <td>80.0</td>\n",
       "      <td>15.473888</td>\n",
       "    </tr>\n",
       "    <tr>\n",
       "      <th>California</th>\n",
       "      <td>159.0</td>\n",
       "      <td>61.0</td>\n",
       "      <td>11.798839</td>\n",
       "    </tr>\n",
       "    <tr>\n",
       "      <th>Tennessee</th>\n",
       "      <td>96.0</td>\n",
       "      <td>47.0</td>\n",
       "      <td>9.090909</td>\n",
       "    </tr>\n",
       "    <tr>\n",
       "      <th>Florida</th>\n",
       "      <td>201.0</td>\n",
       "      <td>39.0</td>\n",
       "      <td>7.543520</td>\n",
       "    </tr>\n",
       "    <tr>\n",
       "      <th>Illinois</th>\n",
       "      <td>135.0</td>\n",
       "      <td>29.0</td>\n",
       "      <td>5.609284</td>\n",
       "    </tr>\n",
       "    <tr>\n",
       "      <th>Washington</th>\n",
       "      <td>75.0</td>\n",
       "      <td>23.0</td>\n",
       "      <td>4.448743</td>\n",
       "    </tr>\n",
       "    <tr>\n",
       "      <th>Michigan</th>\n",
       "      <td>92.0</td>\n",
       "      <td>23.0</td>\n",
       "      <td>4.448743</td>\n",
       "    </tr>\n",
       "    <tr>\n",
       "      <th>Colorado</th>\n",
       "      <td>58.0</td>\n",
       "      <td>22.0</td>\n",
       "      <td>4.255319</td>\n",
       "    </tr>\n",
       "    <tr>\n",
       "      <th>Texas</th>\n",
       "      <td>49.0</td>\n",
       "      <td>22.0</td>\n",
       "      <td>4.255319</td>\n",
       "    </tr>\n",
       "    <tr>\n",
       "      <th>Pennsylvania</th>\n",
       "      <td>110.0</td>\n",
       "      <td>20.0</td>\n",
       "      <td>3.868472</td>\n",
       "    </tr>\n",
       "    <tr>\n",
       "      <th>New Jersey</th>\n",
       "      <td>56.0</td>\n",
       "      <td>19.0</td>\n",
       "      <td>3.675048</td>\n",
       "    </tr>\n",
       "    <tr>\n",
       "      <th>Mississippi</th>\n",
       "      <td>23.0</td>\n",
       "      <td>16.0</td>\n",
       "      <td>3.094778</td>\n",
       "    </tr>\n",
       "    <tr>\n",
       "      <th>Maryland</th>\n",
       "      <td>63.0</td>\n",
       "      <td>15.0</td>\n",
       "      <td>2.901354</td>\n",
       "    </tr>\n",
       "    <tr>\n",
       "      <th>Oregon</th>\n",
       "      <td>36.0</td>\n",
       "      <td>13.0</td>\n",
       "      <td>2.514507</td>\n",
       "    </tr>\n",
       "    <tr>\n",
       "      <th>Virginia</th>\n",
       "      <td>49.0</td>\n",
       "      <td>11.0</td>\n",
       "      <td>2.127660</td>\n",
       "    </tr>\n",
       "    <tr>\n",
       "      <th>Massachusetts</th>\n",
       "      <td>50.0</td>\n",
       "      <td>11.0</td>\n",
       "      <td>2.127660</td>\n",
       "    </tr>\n",
       "    <tr>\n",
       "      <th>Alabama</th>\n",
       "      <td>17.0</td>\n",
       "      <td>9.0</td>\n",
       "      <td>1.740812</td>\n",
       "    </tr>\n",
       "    <tr>\n",
       "      <th>Indiana</th>\n",
       "      <td>50.0</td>\n",
       "      <td>9.0</td>\n",
       "      <td>1.740812</td>\n",
       "    </tr>\n",
       "    <tr>\n",
       "      <th>Utah</th>\n",
       "      <td>16.0</td>\n",
       "      <td>6.0</td>\n",
       "      <td>1.160542</td>\n",
       "    </tr>\n",
       "    <tr>\n",
       "      <th>Arizona</th>\n",
       "      <td>14.0</td>\n",
       "      <td>6.0</td>\n",
       "      <td>1.160542</td>\n",
       "    </tr>\n",
       "    <tr>\n",
       "      <th>New Hampshire</th>\n",
       "      <td>8.0</td>\n",
       "      <td>4.0</td>\n",
       "      <td>0.773694</td>\n",
       "    </tr>\n",
       "    <tr>\n",
       "      <th>New Mexico</th>\n",
       "      <td>11.0</td>\n",
       "      <td>4.0</td>\n",
       "      <td>0.773694</td>\n",
       "    </tr>\n",
       "    <tr>\n",
       "      <th>Minnesota</th>\n",
       "      <td>29.0</td>\n",
       "      <td>4.0</td>\n",
       "      <td>0.773694</td>\n",
       "    </tr>\n",
       "    <tr>\n",
       "      <th>Delaware</th>\n",
       "      <td>8.0</td>\n",
       "      <td>4.0</td>\n",
       "      <td>0.773694</td>\n",
       "    </tr>\n",
       "    <tr>\n",
       "      <th>West Virginia</th>\n",
       "      <td>8.0</td>\n",
       "      <td>3.0</td>\n",
       "      <td>0.580271</td>\n",
       "    </tr>\n",
       "    <tr>\n",
       "      <th>Connecticut</th>\n",
       "      <td>9.0</td>\n",
       "      <td>3.0</td>\n",
       "      <td>0.580271</td>\n",
       "    </tr>\n",
       "    <tr>\n",
       "      <th>Kentucky</th>\n",
       "      <td>4.0</td>\n",
       "      <td>3.0</td>\n",
       "      <td>0.580271</td>\n",
       "    </tr>\n",
       "    <tr>\n",
       "      <th>South Carolina</th>\n",
       "      <td>15.0</td>\n",
       "      <td>3.0</td>\n",
       "      <td>0.580271</td>\n",
       "    </tr>\n",
       "    <tr>\n",
       "      <th>Maine</th>\n",
       "      <td>3.0</td>\n",
       "      <td>2.0</td>\n",
       "      <td>0.386847</td>\n",
       "    </tr>\n",
       "    <tr>\n",
       "      <th>District Of Columbia</th>\n",
       "      <td>14.0</td>\n",
       "      <td>2.0</td>\n",
       "      <td>0.386847</td>\n",
       "    </tr>\n",
       "    <tr>\n",
       "      <th>Kansas</th>\n",
       "      <td>1.0</td>\n",
       "      <td>1.0</td>\n",
       "      <td>0.193424</td>\n",
       "    </tr>\n",
       "    <tr>\n",
       "      <th>Vermont</th>\n",
       "      <td>2.0</td>\n",
       "      <td>1.0</td>\n",
       "      <td>0.193424</td>\n",
       "    </tr>\n",
       "    <tr>\n",
       "      <th>Missouri</th>\n",
       "      <td>3.0</td>\n",
       "      <td>1.0</td>\n",
       "      <td>0.193424</td>\n",
       "    </tr>\n",
       "    <tr>\n",
       "      <th>Louisiana</th>\n",
       "      <td>12.0</td>\n",
       "      <td>1.0</td>\n",
       "      <td>0.193424</td>\n",
       "    </tr>\n",
       "    <tr>\n",
       "      <th>Montana</th>\n",
       "      <td>1.0</td>\n",
       "      <td>0.0</td>\n",
       "      <td>0.000000</td>\n",
       "    </tr>\n",
       "    <tr>\n",
       "      <th>Rhode Island</th>\n",
       "      <td>1.0</td>\n",
       "      <td>0.0</td>\n",
       "      <td>0.000000</td>\n",
       "    </tr>\n",
       "    <tr>\n",
       "      <th>Ohio</th>\n",
       "      <td>3.0</td>\n",
       "      <td>0.0</td>\n",
       "      <td>0.000000</td>\n",
       "    </tr>\n",
       "    <tr>\n",
       "      <th>District of Columbia</th>\n",
       "      <td>1.0</td>\n",
       "      <td>0.0</td>\n",
       "      <td>0.000000</td>\n",
       "    </tr>\n",
       "    <tr>\n",
       "      <th>North Carolina</th>\n",
       "      <td>3.0</td>\n",
       "      <td>0.0</td>\n",
       "      <td>0.000000</td>\n",
       "    </tr>\n",
       "    <tr>\n",
       "      <th>New York</th>\n",
       "      <td>6.0</td>\n",
       "      <td>0.0</td>\n",
       "      <td>0.000000</td>\n",
       "    </tr>\n",
       "    <tr>\n",
       "      <th>Nevada</th>\n",
       "      <td>1.0</td>\n",
       "      <td>0.0</td>\n",
       "      <td>0.000000</td>\n",
       "    </tr>\n",
       "    <tr>\n",
       "      <th>Arkansas</th>\n",
       "      <td>6.0</td>\n",
       "      <td>0.0</td>\n",
       "      <td>0.000000</td>\n",
       "    </tr>\n",
       "    <tr>\n",
       "      <th>Iowa</th>\n",
       "      <td>1.0</td>\n",
       "      <td>0.0</td>\n",
       "      <td>0.000000</td>\n",
       "    </tr>\n",
       "  </tbody>\n",
       "</table>\n",
       "</div>"
      ],
      "text/plain": [
       "New_Status            Closed  Open  unresolved_complaints_percentage\n",
       "State                                                               \n",
       "Georgia                208.0  80.0                         15.473888\n",
       "California             159.0  61.0                         11.798839\n",
       "Tennessee               96.0  47.0                          9.090909\n",
       "Florida                201.0  39.0                          7.543520\n",
       "Illinois               135.0  29.0                          5.609284\n",
       "Washington              75.0  23.0                          4.448743\n",
       "Michigan                92.0  23.0                          4.448743\n",
       "Colorado                58.0  22.0                          4.255319\n",
       "Texas                   49.0  22.0                          4.255319\n",
       "Pennsylvania           110.0  20.0                          3.868472\n",
       "New Jersey              56.0  19.0                          3.675048\n",
       "Mississippi             23.0  16.0                          3.094778\n",
       "Maryland                63.0  15.0                          2.901354\n",
       "Oregon                  36.0  13.0                          2.514507\n",
       "Virginia                49.0  11.0                          2.127660\n",
       "Massachusetts           50.0  11.0                          2.127660\n",
       "Alabama                 17.0   9.0                          1.740812\n",
       "Indiana                 50.0   9.0                          1.740812\n",
       "Utah                    16.0   6.0                          1.160542\n",
       "Arizona                 14.0   6.0                          1.160542\n",
       "New Hampshire            8.0   4.0                          0.773694\n",
       "New Mexico              11.0   4.0                          0.773694\n",
       "Minnesota               29.0   4.0                          0.773694\n",
       "Delaware                 8.0   4.0                          0.773694\n",
       "West Virginia            8.0   3.0                          0.580271\n",
       "Connecticut              9.0   3.0                          0.580271\n",
       "Kentucky                 4.0   3.0                          0.580271\n",
       "South Carolina          15.0   3.0                          0.580271\n",
       "Maine                    3.0   2.0                          0.386847\n",
       "District Of Columbia    14.0   2.0                          0.386847\n",
       "Kansas                   1.0   1.0                          0.193424\n",
       "Vermont                  2.0   1.0                          0.193424\n",
       "Missouri                 3.0   1.0                          0.193424\n",
       "Louisiana               12.0   1.0                          0.193424\n",
       "Montana                  1.0   0.0                          0.000000\n",
       "Rhode Island             1.0   0.0                          0.000000\n",
       "Ohio                     3.0   0.0                          0.000000\n",
       "District of Columbia     1.0   0.0                          0.000000\n",
       "North Carolina           3.0   0.0                          0.000000\n",
       "New York                 6.0   0.0                          0.000000\n",
       "Nevada                   1.0   0.0                          0.000000\n",
       "Arkansas                 6.0   0.0                          0.000000\n",
       "Iowa                     1.0   0.0                          0.000000"
      ]
     },
     "execution_count": 31,
     "metadata": {},
     "output_type": "execute_result"
    }
   ],
   "source": [
    "unresolved_complaints"
   ]
  },
  {
   "cell_type": "markdown",
   "id": "2b07cf89",
   "metadata": {},
   "source": [
    " #FROM THE ABOVE TABLE WE CAN CONCLUDE THAT THE STATE __GEORGIA__ HAS THE MAX PERCENTAGE OF UNRESOLVED COMPLAINTS I.E __15.47 %__ "
   ]
  },
  {
   "cell_type": "markdown",
   "id": "7ac90f71",
   "metadata": {},
   "source": [
    "## TASK 8:-  Provide the percentage of complaints resolved till date, which were received through the Internet and customer care calls."
   ]
  },
  {
   "cell_type": "code",
   "execution_count": 32,
   "id": "89628377",
   "metadata": {},
   "outputs": [
    {
     "data": {
      "text/plain": [
       "array(['Customer Care Call', 'Internet'], dtype=object)"
      ]
     },
     "execution_count": 32,
     "metadata": {},
     "output_type": "execute_result"
    }
   ],
   "source": [
    "df[\"Received Via\"].unique()"
   ]
  },
  {
   "cell_type": "code",
   "execution_count": 33,
   "id": "f9ce0873",
   "metadata": {},
   "outputs": [
    {
     "data": {
      "text/html": [
       "<div>\n",
       "<style scoped>\n",
       "    .dataframe tbody tr th:only-of-type {\n",
       "        vertical-align: middle;\n",
       "    }\n",
       "\n",
       "    .dataframe tbody tr th {\n",
       "        vertical-align: top;\n",
       "    }\n",
       "\n",
       "    .dataframe thead th {\n",
       "        text-align: right;\n",
       "    }\n",
       "</style>\n",
       "<table border=\"1\" class=\"dataframe\">\n",
       "  <thead>\n",
       "    <tr style=\"text-align: right;\">\n",
       "      <th>New_Status</th>\n",
       "      <th>Closed</th>\n",
       "      <th>Open</th>\n",
       "    </tr>\n",
       "    <tr>\n",
       "      <th>Received Via</th>\n",
       "      <th></th>\n",
       "      <th></th>\n",
       "    </tr>\n",
       "  </thead>\n",
       "  <tbody>\n",
       "    <tr>\n",
       "      <th>Customer Care Call</th>\n",
       "      <td>864</td>\n",
       "      <td>255</td>\n",
       "    </tr>\n",
       "    <tr>\n",
       "      <th>Internet</th>\n",
       "      <td>843</td>\n",
       "      <td>262</td>\n",
       "    </tr>\n",
       "  </tbody>\n",
       "</table>\n",
       "</div>"
      ],
      "text/plain": [
       "New_Status          Closed  Open\n",
       "Received Via                    \n",
       "Customer Care Call     864   255\n",
       "Internet               843   262"
      ]
     },
     "execution_count": 33,
     "metadata": {},
     "output_type": "execute_result"
    }
   ],
   "source": [
    "complaints_resolved = df.groupby([\"Received Via\",\"New_Status\"]).size().unstack().fillna(0)\n",
    "complaints_resolved"
   ]
  },
  {
   "cell_type": "code",
   "execution_count": 34,
   "id": "90d31c85",
   "metadata": {},
   "outputs": [
    {
     "data": {
      "text/plain": [
       "Received Via\n",
       "Customer Care Call    50.615114\n",
       "Internet              49.384886\n",
       "Name: Closed, dtype: float64"
      ]
     },
     "execution_count": 34,
     "metadata": {},
     "output_type": "execute_result"
    }
   ],
   "source": [
    "per_complaints_resolved = complaints_resolved[\"Closed\"]/complaints_resolved[\"Closed\"].sum()*100\n",
    "per_complaints_resolved"
   ]
  },
  {
   "cell_type": "code",
   "execution_count": 35,
   "id": "5802bd22",
   "metadata": {},
   "outputs": [
    {
     "data": {
      "text/plain": [
       "<Axes: xlabel='Received Via'>"
      ]
     },
     "execution_count": 35,
     "metadata": {},
     "output_type": "execute_result"
    },
    {
     "data": {
      "image/png": "[encoded data removed]",
      "text/plain": [
       "<Figure size 300x300 with 1 Axes>"
      ]
     },
     "metadata": {},
     "output_type": "display_data"
    }
   ],
   "source": [
    "per_complaints_resolved.plot.bar(figsize=(3,3),width=0.2,color=\"red\")"
   ]
  },
  {
   "cell_type": "code",
   "execution_count": null,
   "id": "1fde8fb7",
   "metadata": {},
   "outputs": [],
   "source": []
  }
 ],
 "metadata": {
  "kernelspec": {
   "display_name": "Python 3 (ipykernel)",
   "language": "python",
   "name": "python3"
  },
  "language_info": {
   "codemirror_mode": {
    "name": "ipython",
    "version": 3
   },
   "file_extension": ".py",
   "mimetype": "text/x-python",
   "name": "python",
   "nbconvert_exporter": "python",
   "pygments_lexer": "ipython3",
   "version": "3.11.4"
  }
 },
 "nbformat": 4,
 "nbformat_minor": 5
}
